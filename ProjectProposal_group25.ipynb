{
 "cells": [
  {
   "cell_type": "markdown",
   "metadata": {},
   "source": [
    "# COGS 108 - Final Project Proposal"
   ]
  },
  {
   "cell_type": "markdown",
   "metadata": {},
   "source": [
    "# Names\n",
    "\n",
    "- Cewen Chi\n",
    "- Christy AuYeung\n",
    "- Jieru Lin\n",
    "- Sirui Zhang\n",
    "- Yue Wang\n",
    "- Wendy(Weicong) Hong\n",
    "- Xiaolong Liu"
   ]
  },
  {
   "cell_type": "markdown",
   "metadata": {},
   "source": [
    "# Research Question"
   ]
  },
  {
   "cell_type": "markdown",
   "metadata": {},
   "source": [
    "Our research question is does the time of day have a significant impact on the type of crime committed in different geographic areas within Los Angeles? We will be measuring different types of crimes in Los Angeles at different times of the day, crime rates vary by time of day across different geographic areas, types of weapons, victims’ sex, and age. \n",
    "\n",
    "\n"
   ]
  },
  {
   "cell_type": "markdown",
   "metadata": {},
   "source": [
    "# Background and Prior Work"
   ]
  },
  {
   "cell_type": "markdown",
   "metadata": {},
   "source": [
    "Crime rates in a society significantly impact the quality of life and overall sense of safety of its residents. In recent years, several cities across the United States, including Los Angeles, have reported an uptick in crime rates, causing considerable public concern. With headlines highlighting increases in violence, property crime, and other forms of criminal activity, the issue has moved to the forefront of public discourse and policy debates. Understanding the factors that influence crime rates is an essential aspect of criminology and public safety. Our research focuses on Los Angeles, one of the cities that has high crime rates compared to others, to investigate whether the time of day significantly impacts the types of crimes committed in different geographic areas. There are several quantitative factors that will be taken into account: different times of the day, geographic areas of the crimes, types of weapons, victims’ sex, and age. As the second most-populated city as well as the largest city in California, Los Angeles serves as a great sample for criminology. Studying the correlation between these factors can provide a refined understanding of crime patterns and contribute to future crime prevention strategies not only in Los Angeles but also in all the cities in the United States.\n",
    "\n",
    "Previous studies have made significant inroads into understanding the relationship between crime rates and the time of day. A paper by Haberman and Ratcliffe (2015) titled \"Testing For Temporarily Differentiated Relationships Among Potential Criminogenic Places and Census Block Street Robbery Counts\", published in the Journal of Quantitative Criminology, found that street robberies occurred more frequently in the late afternoon and early evening in Philadelphia [1]. Their work outlined a significant relationship between crime and the time of day, providing crucial groundwork for our study. However, their research did not delve into variations across diverse geographic areas within a city or consider factors such as weapon type and victim profiles. \n",
    "    \n",
    "There has been another relevant analysis about when crime occurs most. After conducting a data analysis that included 1.3 million crimes across 13 major metropolitan areas in 2022, the researchers found the following results: High rates of criminal activity occur between afternoon and evening hours in most metropolitan areas, with crime rates dropping at night; the majority types of crime attained the pinnacle between 4-7 p.m. and most crimes occurred between noon and 7p.m with violent crimes mostly happening at night [2].\n",
    "\n",
    "Anselin et al have also done a spatial analysis of crime in their studies in the Office of Justice Programs. With the development of technology, people have gained more interest in investigating the relationship between crime and places. In their theory, crimes have always been associated with some “hot spots”, areas potentially where crime would take place. They used descriptive models and exploratory spatial data analysis combining different factors such as crime rates, locations, populations, age of the community, and time of the crime… to draw a crime map as their crime analysis. Building upon the spatial aspect, “special attention is given to some practical and accessible methods of exploratory data analysis that arguably should be the starting place of any empirical analyses of the relationship of place to crime” [3]. Based on this idea, using spatial data to analyze factors contributing to crime is essential since we do not know whether the crimes that happen in some places are random or uniform. Spatial analysis of crime provides a renovating assessment of environmental resources, helps determine crime patterns and trends, and evaluates crime-preventing methods, therefore, enhancing the prime prevention measures. \n",
    "    \n",
    "Our research aims to merge these two perspectives, considering both the temporal and spatial dynamics of crime within Los Angeles. By doing so, we hope to provide a more nuanced understanding of crime patterns and better prevent future crimes in Los Angeles. \n",
    "#### References \n",
    "- Haberman, C. P., & Ratcliffe, J. H. (2015). Testing For Temporarily Differentiated Relationships Among Potential Criminogenic Places and Census Block Street Robbery Counts. Journal of Quantitative Criminology. https://onlinelibrary.wiley.com/doi/abs/10.1111/1745-9125.12076?casa_token=AEi3ygA0DgQAAAAA:_iil7ZdnAwLsuIBT4BBuZ6Psc60XvdpZ0248p86kim-TsqC0egqFMVFlwwvQIkeHo257cQ_J8NqsbIcG. \n",
    "- “When Does Crime Occur Most: An in-Depth Guide.” Vivint, 12 June 2023, www.vivint.com/resources/article/when-does-crime-occur-most. \n",
    "- Anselin, L., Cohen, J., Cook, D., Gorr, W., & Tita, G. (n.d.). Spatial Analyses of Crime. Office of Justice Programs. https://www.ojp.gov/ncjrs/virtual-library/abstracts/spatial-analyses-crime. \n",
    "\n",
    "\n"
   ]
  },
  {
   "cell_type": "markdown",
   "metadata": {},
   "source": [
    "# Hypothesis\n"
   ]
  },
  {
   "cell_type": "markdown",
   "metadata": {},
   "source": [
    "Null H0：The time of day does not have a significant impact on the type of crime committed in different geographic areas within Los Angeles.\n",
    "\n",
    "H1 (Research Hypothesis): The time of day has a significant impact on the type of crime committed in different geographic areas within Los Angeles.\n"
   ]
  },
  {
   "cell_type": "markdown",
   "metadata": {},
   "source": [
    "# Data"
   ]
  },
  {
   "cell_type": "markdown",
   "metadata": {},
   "source": [
    "To address our proposed research question and sub-questions, an ideal dataset is expected to include the following variables:  \n",
    "1. Location: geographic areas within Los Angeles, such as streets, districts, or ZIP codes. \n",
    "2. Time: time during a day should be divided into different time periods (e.g. morning, afternoon, evening, midnight)\n",
    "3. Type of crime: the classification of offences/crimes committed, including but not limited to robbery, assault, burglary, theft, etc.\n",
    "4. Victim demographics: age, sex, and descent of the crime victims, (if available).\n",
    "5. Weapon used: information on the type of weapon used in the criminal commission (if applicable). \n",
    "\n",
    "The dataset should have a sufficient number of observations to ensure statistical reliability and representativeness. Ideally, it should cover several years so that seasonal variations and long-term trends could be captured. The data collection would involve aggregating crime reports and records from law enforcement agencies operating in Los Angeles, such as the Los Angeles Police Department (LAPD), which routinely gathers and maintain crime data. A structured database format, such as a CSV file, would be suitable for storing and organizing the data. Each observation would represent a reported crime incident, including information on the variables mentioned above. The data should be organized in a way that allows for easy querying and analysis. To be specific, each observation should have a unique identifier, and the data should have consistent variable names and formats throughout the dataset.\n",
    "\n",
    "Regarding all factors discussed above, there are several real datasets that can provide relevant information for this project:\n",
    "\n",
    "- LAPD: Crime Data from 2020 to Present (City of Los Angeles) https://catalog.data.gov/dataset/crime-data-from-2020-to-present\n",
    "- LAPD: Crime Data from 2010 to 2019  (City of Los Angeles) https://data.lacity.org/Public-Safety/Crime-Data-from-2010-to-2019/63jg-8b9z\n",
    "\n",
    "These two open datasets, provided by LAPD, both compile crime incidents in the City of Los Angeles: the first one dates back to 2020, and the second one is from 2010 to 2019. These datasets are organized and available for analysis and have covered all desired variables for our research questions. Yet we need to note that there might be inaccuracies in the data since the datasets are derived from paper crime reports that have been manually transcribed. It is important to decide which one to use (or use both) based on further investigation into data suitability and sufficiency. While deciding to use a certain dataset, adaptations or modifications to the question may be necessary based on the data's limitations.\n",
    "\n",
    "\n"
   ]
  },
  {
   "cell_type": "markdown",
   "metadata": {},
   "source": [
    "# Ethics & Privacy"
   ]
  },
  {
   "cell_type": "markdown",
   "metadata": {},
   "source": [
    "#### Data Collection\n",
    "\n",
    "The dataset reports crime incidents in the City of Los Angeles and is transcribed from original crime reports. \n",
    "\n",
    "Potential collection biases that could arise during data collection is that the entire scope of criminal activity might not be completely captured. There could be potential criminal activities that are underreported and some that are overreported due to many different reasons, such as various law enforcement emphases and factors related to the dynamics within the community. While these inherent biases are challenging to completely avoid, it is crucial to be aware of their presence and consider them during the analysis and interpretation of the results.\n",
    "\n",
    "This dataset provides data in a way that serves to minimize the exposure of personally identifiable information. The exact street addresses of the crime incident location are omitted and rounded to the nearest hundred blocks to maintain anonymity. Moreover, the dataset focuses on collecting data about the location of the criminal incident and the criminal activity itself rather than the personal information of the criminal, and the only personally identifiable information collected was age and sex. Private personal information such as names and social security numbers was never present in the dataset. Therefore, the available data does not contain sufficient information for anyone to deduce an individual's profile through reverse engineering.\n",
    "\n",
    "#### Data storage\n",
    "\n",
    "The concerns regarding data storage are relatively minimal compared to scenarios where the dataset includes many personal individual information. In this case, the issue of individuals requesting data removal is not applicable because it is not possible to identify which specific data belongs to which individual. Moreover, the data was obtained from a publicly available dataset, and it is available for everyone to use for research or analysis purposes. The dataset utilized in this research project is openly accessible and does not impose any specific constraints or limitations on its usage.\n"
   ]
  },
  {
   "cell_type": "markdown",
   "metadata": {},
   "source": [
    "# Team Expectations "
   ]
  },
  {
   "cell_type": "markdown",
   "metadata": {},
   "source": [
    "- *Jieru Lin: I am expecting everyone to come to every meeting on time and get prepared for the project's contents.*\n",
    "- *Yue Wang: Everyone should perform their individual roles and adhere to their obligations within the team.*\n",
    "- *Christy Auyeung: All members should communicate their thoughts and needs regarding the project in a timely manner.*\n",
    "- *Wendy Hong: I am expecting everyone to be open to sharing ideas, expertise, and resources.*\n",
    "- *Sirui Zhang: I am expecting effective communication and good teamwork. Be brave to speak out and open to new ideas.*\n",
    "- *Xiaolong Liu: I am expecting all team members to communicate respectfully. We should listen to each other and express our ideas effectively.*\n",
    "- *Cewen Chi: I am expecting everyone to happy study and day day up.*\n"
   ]
  },
  {
   "cell_type": "markdown",
   "metadata": {},
   "source": [
    "# Project Timeline Proposal"
   ]
  },
  {
   "cell_type": "markdown",
   "metadata": {},
   "source": [
    "| Meeting Date  | Meeting Time| Completed Before Meeting  | Discuss at Meeting |\n",
    "|---|---|---|---|\n",
    "| 7/12  |  9 PM | Each person finds one dataset and writes down the potential null hypothesis and research question  | 1. Decide on the ideal dataset we're going to use for the project.2.Allocate the project proposal.| \n",
    "| 7/14  |  7 AM |  Everyone completes what is assigned to him/her for the project proposal. | Go over the project proposal together and revise it | \n",
    "| 7/21  | TBA  | Everyone has some ideas about data wrangling and what the wrangled data look like at the end.  | Discuss the two datasets and decide on what columns and rows we should be using. |\n",
    "| 7/28  | TBA  | Everyone completes what is assigned for the data wrangling section.Think about what plots we should be making and sub-questions for our project| Review/Edit wrangling/EDA; Discuss Analysis Plan   |\n",
    "| 7/31  | TBA  | Everyone completes the EDA part that is assigned to her/him. | Discuss the EDA part.Assign the conclusion and the results parts for everyone.|\n",
    "| 8/5  | TBA  | Everyone completes the assigned part of the project.Go to office hours if any concerns remain.| Read through, make final edits and finalize the project |\n"
   ]
  },
  {
   "cell_type": "code",
   "execution_count": null,
   "metadata": {},
   "outputs": [],
   "source": []
  }
 ],
 "metadata": {
  "kernelspec": {
   "display_name": "Python 3 (ipykernel)",
   "language": "python",
   "name": "python3"
  },
  "language_info": {
   "codemirror_mode": {
    "name": "ipython",
    "version": 3
   },
   "file_extension": ".py",
   "mimetype": "text/x-python",
   "name": "python",
   "nbconvert_exporter": "python",
   "pygments_lexer": "ipython3",
   "version": "3.9.5"
  }
 },
 "nbformat": 4,
 "nbformat_minor": 2
}
