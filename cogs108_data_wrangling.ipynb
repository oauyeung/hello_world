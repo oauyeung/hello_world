{
 "cells": [
  {
   "cell_type": "markdown",
   "id": "07bbfeea",
   "metadata": {},
   "source": [
    "# UC San Diego: Data Science in Practice - Data Checkpoint"
   ]
  },
  {
   "cell_type": "markdown",
   "id": "d9d5dbbf",
   "metadata": {},
   "source": [
    "### Summer Session I 2023 | Instructor : C. Alex Simpkins Ph.D."
   ]
  },
  {
   "cell_type": "markdown",
   "id": "c44d91a5",
   "metadata": {},
   "source": [
    "### Draft project title if you have one (can be changed later)"
   ]
  },
  {
   "cell_type": "markdown",
   "id": "d741260f",
   "metadata": {},
   "source": [
    "# Names\n",
    "Cewen Chi\n",
    "\n",
    "Christy AuYeung\n",
    "\n",
    "Jieru Lin\n",
    "\n",
    "Sirui Zhang\n",
    "\n",
    "Yue Wang\n",
    "\n",
    "Wendy(Weicong) Hong\n",
    "\n",
    "Xiaolong Liu\n"
   ]
  },
  {
   "cell_type": "markdown",
   "id": "666e770a",
   "metadata": {},
   "source": [
    "# Research Question"
   ]
  },
  {
   "cell_type": "markdown",
   "id": "c857a9e6",
   "metadata": {},
   "source": [
    "# Dataset(s)\n",
    "Fill in your dataset information here\n",
    "\n",
    "(Copy this information for each dataset)\n",
    "\n",
    "Dataset Name:\n",
    "Link to the dataset:\n",
    "Number of observations:\n",
    "1-2 sentences describing each dataset.\n",
    "\n",
    "If you plan to use multiple datasets, add 1-2 sentences about how you plan to combine these datasets."
   ]
  },
  {
   "cell_type": "code",
   "execution_count": null,
   "id": "ece77183",
   "metadata": {},
   "outputs": [],
   "source": []
  },
  {
   "cell_type": "markdown",
   "id": "9a0b86ee",
   "metadata": {},
   "source": [
    "# Data Wrangling\n",
    "Explain steps taken to pull the data you need into Python."
   ]
  },
  {
   "cell_type": "markdown",
   "id": "fa2b606c",
   "metadata": {},
   "source": [
    "# Data Cleaning\n",
    "Describe your data cleaning steps here."
   ]
  },
  {
   "cell_type": "code",
   "execution_count": null,
   "id": "3b650beb",
   "metadata": {},
   "outputs": [],
   "source": []
  }
 ],
 "metadata": {
  "kernelspec": {
   "display_name": "Python 3 (clean)",
   "language": "python",
   "name": "python3_clean"
  },
  "language_info": {
   "codemirror_mode": {
    "name": "ipython",
    "version": 3
   },
   "file_extension": ".py",
   "mimetype": "text/x-python",
   "name": "python",
   "nbconvert_exporter": "python",
   "pygments_lexer": "ipython3",
   "version": "3.9.5"
  }
 },
 "nbformat": 4,
 "nbformat_minor": 5
}
